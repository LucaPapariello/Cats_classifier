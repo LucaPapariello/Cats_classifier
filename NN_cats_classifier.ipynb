{
 "cells": [
  {
   "cell_type": "markdown",
   "metadata": {},
   "source": [
    "# Deep Neural Network for image classification (step by step)"
   ]
  },
  {
   "cell_type": "markdown",
   "metadata": {},
   "source": [
    "Here we build a deep neural network for image classification from scratch, using Numpy. The key steps of the program are the following:\n",
    "\n",
    "- Initialize the parameters for an $L$-layer neural network.\n",
    "- Implement the forward propagation.\n",
    "- Compute the loss function.\n",
    "- Implement the backward propagation.\n",
    "- Finally update the parameters."
   ]
  },
  {
   "cell_type": "markdown",
   "metadata": {},
   "source": [
    "**Note:** 1) We implement $\\mathrm{L_2}$ regularization to solve the problem of overfitting. \n",
    "2) Since the training set is very small we use gradient descent."
   ]
  },
  {
   "cell_type": "code",
   "execution_count": 1,
   "metadata": {
    "collapsed": false
   },
   "outputs": [],
   "source": [
    "# Import standard packages\n",
    "import numpy as np\n",
    "import h5py\n",
    "import matplotlib.pyplot as plt\n",
    "import matplotlib as mpl\n",
    "\n",
    "# Import a file containing all the functions needed to \n",
    "# build our neural network from scratch.\n",
    "from NN_prop_utils import *\n",
    "\n",
    "%matplotlib inline\n",
    "\n",
    "# Set the following values globally\n",
    "# Ticks label size\n",
    "label_size = 9\n",
    "mpl.rcParams['xtick.labelsize'] = label_size     \n",
    "mpl.rcParams['ytick.labelsize'] = label_size\n",
    "#Line width\n",
    "mpl.rcParams['axes.linewidth'] = 1.5\n",
    "plt.rc('font', family='Helvetica')"
   ]
  },
  {
   "cell_type": "code",
   "execution_count": 2,
   "metadata": {
    "collapsed": false
   },
   "outputs": [],
   "source": [
    "# Load data into the notebook\n",
    "train_x_orig, train_y, test_x_orig, test_y, classes = load_data()"
   ]
  },
  {
   "cell_type": "markdown",
   "metadata": {},
   "source": [
    "## Data set"
   ]
  },
  {
   "cell_type": "markdown",
   "metadata": {},
   "source": [
    "For this classification problem of *cat vs. non-cat* we use the train_catvnoncat.h5 and test_catvnoncat.h5 datasets.\n",
    "\n",
    "**Datasets:** it contains\n",
    "   - training set made of *m_train* images labelled as cat (1) or non-cat (0)\n",
    "   - test set made of *m_test* images labelled as cat (1) or non-cat (0)\n",
    "   \n",
    "Note that each image is of shape (num_px, num_px, 3), where num_px represents the number of pixel along one dimension and 3 is for the 3 color channes (RGB).\n",
    "Images are thus stored as 3 matrices containing the red, green, and blue color codes.\n",
    "The training set *train_x_orig* is hence of shape (m_train, num_px, num_px, 3) = (209, 64, 64, 3)."
   ]
  },
  {
   "cell_type": "code",
   "execution_count": 3,
   "metadata": {
    "collapsed": false
   },
   "outputs": [
    {
     "name": "stdout",
     "output_type": "stream",
     "text": [
      "y = 1: it's a cat picture.\n"
     ]
    },
    {
     "data": {
      "image/png": "[encoded data removed]",
      "text/plain": [
       "<matplotlib.figure.Figure at 0x10ac51d90>"
      ]
     },
     "metadata": {},
     "output_type": "display_data"
    }
   ],
   "source": [
    "# Display the example of a picture\n",
    "index = 192\n",
    "plt.imshow(train_x_orig[index])\n",
    "print (\"y = \" + str(train_y[0, index]) + \": it's a \" + classes[train_y[0, index]].decode(\"utf-8\") +  \" picture.\")"
   ]
  },
  {
   "cell_type": "markdown",
   "metadata": {},
   "source": [
    "### Reshape the dataset"
   ]
  },
  {
   "cell_type": "markdown",
   "metadata": {},
   "source": [
    "Before feeding the dataset to the neural network, we need to reshape the images by unrolling them into a (num_px $*$ num_px $*$ 3)-dimensional vector.\n",
    "The columns of the resulting matrix correspond to different training examples."
   ]
  },
  {
   "cell_type": "code",
   "execution_count": 4,
   "metadata": {
    "collapsed": false
   },
   "outputs": [
    {
     "name": "stdout",
     "output_type": "stream",
     "text": [
      "train_x's shape: (12288, 209)\n",
      "test_x's shape: (12288, 50)\n"
     ]
    }
   ],
   "source": [
    "# Reshape the training and test examples by unrolling them\n",
    "train_x_flatten = train_x_orig.reshape(train_x_orig.shape[0], -1).T   # \"-1\" flattens the remaining dimensions.\n",
    "test_x_flatten = test_x_orig.reshape(test_x_orig.shape[0], -1).T\n",
    "\n",
    "# Standardize data to have feature values between 0 and 1.\n",
    "# This is a simpler/shorter implementation of feature scaling and mean normalization,\n",
    "# but for images should work quite well.\n",
    "train_x = train_x_flatten/255.\n",
    "test_x = test_x_flatten/255.\n",
    "\n",
    "print (\"train_x's shape: \" + str(train_x.shape))\n",
    "print (\"test_x's shape: \" + str(test_x.shape))"
   ]
  },
  {
   "cell_type": "markdown",
   "metadata": {},
   "source": [
    "Here 12288 simply corresponds to 64$*$64$*$3, which is the size of one reshaped image vector."
   ]
  },
  {
   "cell_type": "markdown",
   "metadata": {},
   "source": [
    "## L-layer neural network"
   ]
  },
  {
   "cell_type": "markdown",
   "metadata": {},
   "source": [
    "We build now our neural network using the gradient descent algorithm."
   ]
  },
  {
   "cell_type": "code",
   "execution_count": 5,
   "metadata": {
    "collapsed": true
   },
   "outputs": [],
   "source": [
    "### Shape of the deep neural network ###\n",
    "layers_dims = [12288, 20, 7, 5, 1]   # 4-layer model"
   ]
  },
  {
   "cell_type": "code",
   "execution_count": 19,
   "metadata": {
    "collapsed": true
   },
   "outputs": [],
   "source": [
    "# Here we define the L-layer model.\n",
    "\n",
    "def L_layer_model_reg(X, Y, layers_dims, learning_rate, lambd, \n",
    "                      num_iterations = 3000, print_cost = False, plot_cost = False):\n",
    "    \"\"\"\n",
    "    Implements a L-layer neural network: [LINEAR->RELU]*(L-1)->LINEAR->SIGMOID.\n",
    "    \n",
    "    Arguments:\n",
    "    X -- data, numpy array of shape (number of examples, num_px * num_px * 3)\n",
    "    Y -- true \"label\" vector (containing 1 if cat, 0 if non-cat), of shape (1, number of examples)\n",
    "    layers_dims -- list containing the input size and each layer size, of length (number of layers + 1).\n",
    "    learning_rate -- learning rate of the gradient descent update rule\n",
    "    num_iterations -- number of iterations of the optimization loop\n",
    "    print_cost -- if True, it prints the cost every 100 steps\n",
    "    \n",
    "    Returns:\n",
    "    parameters -- parameters learnt by the model. They can then be used to predict.\n",
    "    \"\"\"  \n",
    "    \n",
    "    np.random.seed(1)\n",
    "    \n",
    "    costs = []      # Keeps track of the cost function\n",
    "    iters = []      # Keeps track of the number of iterations\n",
    "    \n",
    "    # Parameters initialization\n",
    "    parameters = initialize_parameters(layers_dims)\n",
    "    \n",
    "    # Iterate using gradient descent\n",
    "    for i in range(0, num_iterations + 1):\n",
    "\n",
    "        # Forward propagation: [LINEAR -> RELU]*(L-1) -> LINEAR -> SIGMOID.\n",
    "        AL, caches = L_model_forward(X, parameters)\n",
    "        \n",
    "        # Compute cost.\n",
    "        cost = compute_cost_with_regularization(AL, Y, parameters, lambd)\n",
    "    \n",
    "        # Backward propagation.\n",
    "        grads = L_model_backward_with_regularization(AL, Y, caches, lambd)\n",
    " \n",
    "        # Update parameters.\n",
    "        parameters = update_parameters(parameters, grads, learning_rate)\n",
    "                \n",
    "        # Print the cost every 200 training example.\n",
    "        if print_cost and i % 200 == 0:\n",
    "            print (\"Cost after iteration %i: %f\" %(i, cost))\n",
    "            \n",
    "        # Record the costs.\n",
    "        if i % 100 == 0:\n",
    "            costs.append(cost)\n",
    "            iters.append(i)\n",
    "            \n",
    "    # Plot the cost.\n",
    "    if plot_cost == True:\n",
    "        fig = plt.figure(dpi=150, figsize=(2, 1.6))\n",
    "        plt.plot(iters, costs)\n",
    "        plt.ylabel('cost')\n",
    "        plt.xlabel('iterations')\n",
    "        plt.title(\"Learning rate = \" + str(learning_rate), fontsize = 10)\n",
    "        plt.show()\n",
    "    \n",
    "    return parameters, costs"
   ]
  },
  {
   "cell_type": "markdown",
   "metadata": {},
   "source": [
    "## Training of the neural network"
   ]
  },
  {
   "cell_type": "markdown",
   "metadata": {},
   "source": [
    "We will now train the neural network using gradient descent."
   ]
  },
  {
   "cell_type": "code",
   "execution_count": 20,
   "metadata": {
    "collapsed": false
   },
   "outputs": [
    {
     "name": "stdout",
     "output_type": "stream",
     "text": [
      "Cost after iteration 0: 0.771749\n",
      "Cost after iteration 200: 0.648263\n",
      "Cost after iteration 400: 0.567047\n",
      "Cost after iteration 600: 0.527930\n",
      "Cost after iteration 800: 0.369126\n",
      "Cost after iteration 1000: 0.315187\n",
      "Cost after iteration 1200: 0.237419\n",
      "Cost after iteration 1400: 0.189263\n",
      "Cost after iteration 1600: 0.148214\n",
      "Cost after iteration 1800: 0.129740\n",
      "Cost after iteration 2000: 0.113821\n",
      "Cost after iteration 2200: 0.102855\n",
      "Cost after iteration 2400: 0.092878\n",
      "Cost after iteration 2600: 0.085951\n",
      "Cost after iteration 2800: 0.078247\n",
      "Cost after iteration 3000: 0.073324\n"
     ]
    },
    {
     "data": {
      "image/png": "[encoded data removed]",
      "text/plain": [
       "<matplotlib.figure.Figure at 0x11027ecd0>"
      ]
     },
     "metadata": {},
     "output_type": "display_data"
    }
   ],
   "source": [
    "parameters, costs = L_layer_model_reg(train_x, train_y, layers_dims, learning_rate = 0.0075, \n",
    "                                      lambd = 0., num_iterations = 3000, print_cost = True, plot_cost = True)"
   ]
  },
  {
   "cell_type": "markdown",
   "metadata": {},
   "source": [
    "## Performance"
   ]
  },
  {
   "cell_type": "markdown",
   "metadata": {},
   "source": [
    "Here we look at the performance of the neural network on the training set and the test set."
   ]
  },
  {
   "cell_type": "code",
   "execution_count": 21,
   "metadata": {
    "collapsed": false
   },
   "outputs": [
    {
     "name": "stdout",
     "output_type": "stream",
     "text": [
      "Accuracy: 99.043062201\n"
     ]
    }
   ],
   "source": [
    "pred_train = predict(train_x, train_y, parameters)"
   ]
  },
  {
   "cell_type": "code",
   "execution_count": 22,
   "metadata": {
    "collapsed": false
   },
   "outputs": [
    {
     "name": "stdout",
     "output_type": "stream",
     "text": [
      "Accuracy: 78.0\n"
     ]
    }
   ],
   "source": [
    "pred_test = predict(test_x, test_y, parameters)"
   ]
  },
  {
   "cell_type": "markdown",
   "metadata": {},
   "source": [
    "## Tuning of the hyperparameters"
   ]
  },
  {
   "cell_type": "markdown",
   "metadata": {},
   "source": [
    "Here we tweak the hyperparameters (learning rate and regularization parameter) to improve the performance of the model. \n",
    "\n",
    "We will find that regularization boosts the performance of the training set from **78%** to **84%**.\n",
    "\n",
    "**Note:** given the very small training set, we cannot do much better than 84% accuracy on the test set. In order to solve the high variance problem we should get more data!"
   ]
  },
  {
   "cell_type": "markdown",
   "metadata": {},
   "source": [
    "### Learning rate"
   ]
  },
  {
   "cell_type": "code",
   "execution_count": 31,
   "metadata": {
    "collapsed": false
   },
   "outputs": [
    {
     "name": "stdout",
     "output_type": "stream",
     "text": [
      "Learning rate is: 0.0074\n",
      "Final cost: 0.128844309153\n",
      " \n",
      "Training set performance: \n",
      "Accuracy: 100.0\n",
      " \n",
      "Test set performance: \n",
      "Accuracy: 76.0\n",
      "\n",
      "-------------------------------------------------------\n",
      "\n",
      "Learning rate is: 0.0075\n",
      "Final cost: 0.134816481373\n",
      " \n",
      "Training set performance: \n",
      "Accuracy: 99.5215311005\n",
      " \n",
      "Test set performance: \n",
      "Accuracy: 84.0\n",
      "\n",
      "-------------------------------------------------------\n",
      "\n",
      "Learning rate is: 0.0076\n",
      "Final cost: 0.154433360259\n",
      " \n",
      "Training set performance: \n",
      "Accuracy: 99.043062201\n",
      " \n",
      "Test set performance: \n",
      "Accuracy: 84.0\n",
      "\n",
      "-------------------------------------------------------\n",
      "\n",
      "Learning rate is: 0.0077\n",
      "Final cost: 0.122149795975\n",
      " \n",
      "Training set performance: \n",
      "Accuracy: 100.0\n",
      " \n",
      "Test set performance: \n",
      "Accuracy: 74.0\n",
      "\n",
      "-------------------------------------------------------\n",
      "\n",
      "Learning rate is: 0.0078\n",
      "Final cost: 0.121666645976\n",
      " \n",
      "Training set performance: \n",
      "Accuracy: 100.0\n",
      " \n",
      "Test set performance: \n",
      "Accuracy: 72.0\n",
      "\n",
      "-------------------------------------------------------\n",
      "\n"
     ]
    },
    {
     "data": {
      "image/png": "[encoded data removed]",
      "text/plain": [
       "<matplotlib.figure.Figure at 0x115558d90>"
      ]
     },
     "metadata": {},
     "output_type": "display_data"
    }
   ],
   "source": [
    "# Try different learning rates.\n",
    "# Input the values by hand.\n",
    "learning_rates = [0.0074, 0.0075, 0.0076, 0.0077, 0.0078]\n",
    "\n",
    "# Try different learning rates at random on a log scale.\n",
    "# This is because we want to try values on different scales:\n",
    "# from 0.001 to 0.1.\n",
    "# r = -2*np.random.rand(1, 10) - 1\n",
    "# learning_rates = 10**r\n",
    "\n",
    "# Store the parameters, costs, and predictions on\n",
    "# both train and test set.\n",
    "params = {}\n",
    "costs = {}\n",
    "preds_train = {}\n",
    "preds_test = {}\n",
    "\n",
    "#np.random.seed(1)\n",
    "\n",
    "for i in learning_rates:\n",
    "    print (\"Learning rate is: \" + str(i))\n",
    "    # Here we train the different models.\n",
    "    params[learning_rates.index(i)], costs[learning_rates.index(i)] =\\\n",
    "                        L_layer_model_reg(train_x, train_y, layers_dims, learning_rate = i, \n",
    "                                          lambd = 1., num_iterations = 3000, print_cost = False, plot_cost = False)\n",
    "    # Look at the final cost and predictions for the different models.\n",
    "    print(\"Final cost: \" + str(costs[learning_rates.index(i)][-1]))\n",
    "    print(\" \")\n",
    "    print('Training set performance: ')\n",
    "    preds_train[learning_rates.index(i)] = predict(train_x, train_y, params[learning_rates.index(i)])\n",
    "    print(\" \")\n",
    "    print('Test set performance: ')\n",
    "    preds_test[learning_rates.index(i)] = predict(test_x, test_y, params[learning_rates.index(i)])\n",
    "    print ('\\n' + \"-------------------------------------------------------\" + '\\n')\n",
    "\n",
    "# Plot the learning curves on the same plot for readability.\n",
    "fig = plt.figure(dpi=150, figsize=(2, 1.6))\n",
    "\n",
    "for i in learning_rates:\n",
    "    plt.plot(costs[learning_rates.index(i)], label = str(i))\n",
    "\n",
    "plt.ylabel('cost')\n",
    "plt.xlabel('iterations (hundreds)')\n",
    "\n",
    "legend = plt.legend(loc='center left', fontsize='small', bbox_to_anchor=(1, 0.5))\n",
    "frame = legend.get_frame()\n",
    "plt.show()"
   ]
  },
  {
   "cell_type": "markdown",
   "metadata": {},
   "source": [
    "### Regularization parameter"
   ]
  },
  {
   "cell_type": "code",
   "execution_count": 29,
   "metadata": {
    "collapsed": false
   },
   "outputs": [
    {
     "name": "stdout",
     "output_type": "stream",
     "text": [
      "Regularization parameter is: 0.0\n",
      "Final cost: 0.0733238697567\n",
      " \n",
      "Training set performance: \n",
      "Accuracy: 99.043062201\n",
      " \n",
      "Test set performance: \n",
      "Accuracy: 78.0\n",
      "\n",
      "-------------------------------------------------------\n",
      "\n",
      "Regularization parameter is: 1.0\n",
      "Final cost: 0.134816481373\n",
      " \n",
      "Training set performance: \n",
      "Accuracy: 99.5215311005\n",
      " \n",
      "Test set performance: \n",
      "Accuracy: 84.0\n",
      "\n",
      "-------------------------------------------------------\n",
      "\n",
      "Regularization parameter is: 2.0\n",
      "Final cost: 0.181723385622\n",
      " \n",
      "Training set performance: \n",
      "Accuracy: 100.0\n",
      " \n",
      "Test set performance: \n",
      "Accuracy: 76.0\n",
      "\n",
      "-------------------------------------------------------\n",
      "\n",
      "Regularization parameter is: 4.0\n",
      "Final cost: 0.25816904164\n",
      " \n",
      "Training set performance: \n",
      "Accuracy: 100.0\n",
      " \n",
      "Test set performance: \n",
      "Accuracy: 78.0\n",
      "\n",
      "-------------------------------------------------------\n",
      "\n",
      "Regularization parameter is: 8.0\n",
      "Final cost: 0.314038537964\n",
      " \n",
      "Training set performance: \n",
      "Accuracy: 100.0\n",
      " \n",
      "Test set performance: \n",
      "Accuracy: 80.0\n",
      "\n",
      "-------------------------------------------------------\n",
      "\n",
      "Regularization parameter is: 16.0\n",
      "Final cost: 0.383018789215\n",
      " \n",
      "Training set performance: \n",
      "Accuracy: 99.5215311005\n",
      " \n",
      "Test set performance: \n",
      "Accuracy: 76.0\n",
      "\n",
      "-------------------------------------------------------\n",
      "\n"
     ]
    },
    {
     "data": {
      "image/png": "[encoded data removed]",
      "text/plain": [
       "<matplotlib.figure.Figure at 0x11004d390>"
      ]
     },
     "metadata": {},
     "output_type": "display_data"
    }
   ],
   "source": [
    "# Try different regularization parameters.\n",
    "# Input the values by hand.\n",
    "lambds = [0., 1., 2., 4., 8., 16.]\n",
    "\n",
    "# Try different regularization parameters at random on a log scale.\n",
    "# This is because we want to try values on different scales:\n",
    "# from 0.01 to 10.\n",
    "#r = -3*np.random.rand(1, 10) + 1\n",
    "#lambds_array = 10**r\n",
    "#lambds_tmp = lambds_array[0]     # Bring to numpy array to the correct\n",
    "#lambds = lambds_tmp.tolist()     # list shape.\n",
    "\n",
    "# Store the parameters, costs, and predictions on\n",
    "# both train and test set.\n",
    "params = {}\n",
    "costs = {}\n",
    "preds_train = {}\n",
    "preds_test = {}\n",
    "\n",
    "#np.random.seed(1)\n",
    "\n",
    "for i in lambds:\n",
    "    print (\"Regularization parameter is: \" + str(i))\n",
    "    # Here we train the different models.\n",
    "    params[lambds.index(i)], costs[lambds.index(i)] = L_layer_model_reg(train_x, train_y, layers_dims, \n",
    "                                                                        learning_rate = 0.0075, lambd = i, \n",
    "                                                                        num_iterations = 3000, print_cost = False,\n",
    "                                                                        plot_cost = False)\n",
    "    # Look at the final cost and predictions for the different models.\n",
    "    print(\"Final cost: \" + str(costs[lambds.index(i)][-1]))\n",
    "    print(\" \")\n",
    "    print('Training set performance: ')\n",
    "    preds_train[lambds.index(i)] = predict(train_x, train_y, params[lambds.index(i)])\n",
    "    print(\" \")\n",
    "    print('Test set performance: ')\n",
    "    preds_test[lambds.index(i)] = predict(test_x, test_y, params[lambds.index(i)])\n",
    "    print ('\\n' + \"-------------------------------------------------------\" + '\\n')\n",
    "\n",
    "# Plot the learning curves on the same plot for readability.\n",
    "fig = plt.figure(dpi=150, figsize=(2, 1.6))\n",
    "\n",
    "for i in lambds:\n",
    "    plt.plot(costs[lambds.index(i)], label = str(i))\n",
    "\n",
    "plt.ylabel('cost')\n",
    "plt.xlabel('iterations (hundreds)')\n",
    "\n",
    "legend = plt.legend(loc='center left', fontsize='small', bbox_to_anchor=(1, 0.5))\n",
    "frame = legend.get_frame()\n",
    "plt.show()"
   ]
  },
  {
   "cell_type": "markdown",
   "metadata": {},
   "source": [
    "As a consequence of this hyperparameters search, we choose a learning rate of 0.0075 and a regularization parameter of 1, ending up with an accuracy of 99.5% on the training set and 84% on the test set."
   ]
  },
  {
   "cell_type": "code",
   "execution_count": null,
   "metadata": {
    "collapsed": true
   },
   "outputs": [],
   "source": []
  }
 ],
 "metadata": {
  "kernelspec": {
   "display_name": "Python 3",
   "language": "python",
   "name": "python3"
  },
  "language_info": {
   "codemirror_mode": {
    "name": "ipython",
    "version": 2
   },
   "file_extension": ".py",
   "mimetype": "text/x-python",
   "name": "python",
   "nbconvert_exporter": "python",
   "pygments_lexer": "ipython2",
   "version": "2.7.6"
  }
 },
 "nbformat": 4,
 "nbformat_minor": 2
}
