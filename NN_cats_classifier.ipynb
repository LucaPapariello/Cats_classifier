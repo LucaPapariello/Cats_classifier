{
 "cells": [
  {
   "cell_type": "markdown",
   "metadata": {},
   "source": [
    "# Deep Neural Network for image classification (step by step)"
   ]
  },
  {
   "cell_type": "markdown",
   "metadata": {},
   "source": [
    "Here we build a deep neural network for image classification from scratch, using Numpy. The key steps of the program are the following:\n",
    "\n",
    "- Initialize the parameters for an $L$-layer neural network.\n",
    "- Implement the forward propagation.\n",
    "- Compute the loss function.\n",
    "- Implement the backward propagation.\n",
    "- Finally update the parameters."
   ]
  },
  {
   "cell_type": "code",
   "execution_count": 1,
   "metadata": {
    "collapsed": false
   },
   "outputs": [],
   "source": [
    "# Import standard packages\n",
    "import numpy as np\n",
    "import h5py\n",
    "import matplotlib.pyplot as plt\n",
    "import matplotlib as mpl\n",
    "\n",
    "# Import a file containing all the functions needed to \n",
    "# build our neural network from scratch.\n",
    "from NN_prop_utils import *\n",
    "\n",
    "%matplotlib inline\n",
    "\n",
    "# Set the following values globally\n",
    "# Ticks label size\n",
    "label_size = 9\n",
    "mpl.rcParams['xtick.labelsize'] = label_size     \n",
    "mpl.rcParams['ytick.labelsize'] = label_size\n",
    "#Line width\n",
    "mpl.rcParams['axes.linewidth'] = 1.5\n",
    "plt.rc('font', family='Helvetica')"
   ]
  },
  {
   "cell_type": "code",
   "execution_count": 2,
   "metadata": {
    "collapsed": false
   },
   "outputs": [],
   "source": [
    "# Load data into the notebook\n",
    "train_x_orig, train_y, test_x_orig, test_y, classes = load_data()"
   ]
  },
  {
   "cell_type": "markdown",
   "metadata": {},
   "source": [
    "## Data set"
   ]
  },
  {
   "cell_type": "markdown",
   "metadata": {},
   "source": [
    "For this classification problem of *cat vs. non-cat* we use the train_catvnoncat.h5 and test_catvnoncat.h5 datasets.\n",
    "\n",
    "**Datasets:** it contains\n",
    "   - training set made of *m_train* images labelled as cat (1) or non-cat (0)\n",
    "   - test set made of *m_test* images labelled as cat (1) or non-cat (0)\n",
    "   \n",
    "Note that each image is of shape (num_px, num_px, 3), where num_px represents the number of pixel along one dimension and 3 is for the 3 color channes (RGB).\n",
    "Images are thus stored as 3 matrices containing the red, green, and blue color codes.\n",
    "The training set *train_x_orig* is hence of shape (m_train, num_px, num_px, 3) = (209, 64, 64, 3)."
   ]
  },
  {
   "cell_type": "code",
   "execution_count": 3,
   "metadata": {
    "collapsed": false
   },
   "outputs": [
    {
     "name": "stdout",
     "output_type": "stream",
     "text": [
      "y = 1: it's a cat picture.\n"
     ]
    },
    {
     "data": {
      "image/png": "[encoded data removed]",
      "text/plain": [
       "<matplotlib.figure.Figure at 0x10ab66c90>"
      ]
     },
     "metadata": {},
     "output_type": "display_data"
    }
   ],
   "source": [
    "# Display the example of a picture\n",
    "index = 27\n",
    "plt.imshow(train_x_orig[index])\n",
    "print (\"y = \" + str(train_y[0, index]) + \": it's a \" + classes[train_y[0, index]].decode(\"utf-8\") +  \" picture.\")"
   ]
  },
  {
   "cell_type": "markdown",
   "metadata": {},
   "source": [
    "### Reshape the dataset"
   ]
  },
  {
   "cell_type": "markdown",
   "metadata": {},
   "source": [
    "Before feeding the dataset to the neural network, we need to reshape the images by unrolling them into a (num_px $*$ num_px $*$ 3)-dimensional vector.\n",
    "The columns of the resulting matrix correspond to different training examples."
   ]
  },
  {
   "cell_type": "code",
   "execution_count": 4,
   "metadata": {
    "collapsed": false
   },
   "outputs": [
    {
     "name": "stdout",
     "output_type": "stream",
     "text": [
      "train_x's shape: (12288, 209)\n",
      "test_x's shape: (12288, 50)\n"
     ]
    }
   ],
   "source": [
    "# Reshape the training and test examples by unrolling them\n",
    "train_x_flatten = train_x_orig.reshape(train_x_orig.shape[0], -1).T   # \"-1\" flattens the remaining dimensions.\n",
    "test_x_flatten = test_x_orig.reshape(test_x_orig.shape[0], -1).T\n",
    "\n",
    "# Standardize data to have feature values between 0 and 1.\n",
    "# This is a simpler/shorter implementation of feature scaling and mean normalization,\n",
    "# but for images should work quite well.\n",
    "train_x = train_x_flatten/255.\n",
    "test_x = test_x_flatten/255.\n",
    "\n",
    "print (\"train_x's shape: \" + str(train_x.shape))\n",
    "print (\"test_x's shape: \" + str(test_x.shape))"
   ]
  },
  {
   "cell_type": "markdown",
   "metadata": {},
   "source": [
    "Here 12288 simply corresponds to 64$*$64$*$3, which is the size of one reshaped image vector."
   ]
  },
  {
   "cell_type": "markdown",
   "metadata": {},
   "source": [
    "## L-layer neural network"
   ]
  },
  {
   "cell_type": "markdown",
   "metadata": {},
   "source": [
    "We build now our neural network using the gradient descent algorithm."
   ]
  },
  {
   "cell_type": "code",
   "execution_count": 5,
   "metadata": {
    "collapsed": true
   },
   "outputs": [],
   "source": [
    "### Shape of the deep neural network ###\n",
    "layers_dims = [12288, 20, 7, 5, 1]   # 4-layer model"
   ]
  },
  {
   "cell_type": "code",
   "execution_count": 6,
   "metadata": {
    "collapsed": true
   },
   "outputs": [],
   "source": [
    "# Here we define the L-layer model.\n",
    "\n",
    "def L_layer_model(X, Y, layers_dims, learning_rate = 0.0075, num_iterations = 3000, print_cost=False):\n",
    "    \"\"\"\n",
    "    Implements a L-layer neural network: [LINEAR->RELU]*(L-1)->LINEAR->SIGMOID.\n",
    "    \n",
    "    Arguments:\n",
    "    X -- data, numpy array of shape (number of examples, num_px * num_px * 3)\n",
    "    Y -- true \"label\" vector (containing 1 if cat, 0 if non-cat), of shape (1, number of examples)\n",
    "    layers_dims -- list containing the input size and each layer size, of length (number of layers + 1).\n",
    "    learning_rate -- learning rate of the gradient descent update rule\n",
    "    num_iterations -- number of iterations of the optimization loop\n",
    "    print_cost -- if True, it prints the cost every 100 steps\n",
    "    \n",
    "    Returns:\n",
    "    parameters -- parameters learnt by the model. They can then be used to predict.\n",
    "    \"\"\"\n",
    "    \n",
    "    costs = []      # Keeps track of the cost function\n",
    "    iters = []      # Keeps track of the number of iterations\n",
    "    \n",
    "    # Parameters initialization\n",
    "    parameters = initialize_parameters(layers_dims)\n",
    "    \n",
    "    # Iterate using gradient descent\n",
    "    for i in range(0, num_iterations):\n",
    "\n",
    "        # Forward propagation: [LINEAR -> RELU]*(L-1) -> LINEAR -> SIGMOID.\n",
    "        AL, caches = L_model_forward(X, parameters)\n",
    "        \n",
    "        # Compute cost.\n",
    "        cost = compute_cost(AL, Y)\n",
    "    \n",
    "        # Backward propagation.\n",
    "        grads = L_model_backward(AL, Y, caches)\n",
    " \n",
    "        # Update parameters.\n",
    "        parameters = update_parameters(parameters, grads, learning_rate)\n",
    "                \n",
    "        # Print the cost every 200 training example\n",
    "        if print_cost and i % 200 == 0:\n",
    "            print (\"Cost after iteration %i: %f\" %(i, cost))\n",
    "        if print_cost and i % 200 == 0:\n",
    "            costs.append(cost)\n",
    "            iters.append(i)\n",
    "            \n",
    "    # Plot the cost\n",
    "    fig = plt.figure(dpi=150, figsize=(2, 1.6))\n",
    "    plt.plot(iters, costs)\n",
    "    plt.ylabel('cost')\n",
    "    plt.xlabel('iterations')\n",
    "    plt.title(\"Learning rate = \" + str(learning_rate), fontsize = 10)\n",
    "    plt.show()\n",
    "    \n",
    "    return parameters"
   ]
  },
  {
   "cell_type": "markdown",
   "metadata": {},
   "source": [
    "## Training of the neural network"
   ]
  },
  {
   "cell_type": "markdown",
   "metadata": {},
   "source": [
    "We will now train the neural network using gradient descent."
   ]
  },
  {
   "cell_type": "code",
   "execution_count": 10,
   "metadata": {
    "collapsed": false
   },
   "outputs": [
    {
     "name": "stdout",
     "output_type": "stream",
     "text": [
      "Cost after iteration 0: 0.690543\n",
      "Cost after iteration 200: 0.635988\n",
      "Cost after iteration 400: 0.603457\n",
      "Cost after iteration 600: 0.536925\n",
      "Cost after iteration 800: 0.435300\n",
      "Cost after iteration 1000: 0.284367\n",
      "Cost after iteration 1200: 0.153755\n",
      "Cost after iteration 1400: 0.077067\n",
      "Cost after iteration 1600: 0.033462\n",
      "Cost after iteration 1800: 0.018270\n",
      "Cost after iteration 2000: 0.011635\n",
      "Cost after iteration 2200: 0.008134\n",
      "Cost after iteration 2400: 0.006065\n"
     ]
    },
    {
     "data": {
      "image/png": "[encoded data removed]",
      "text/plain": [
       "<matplotlib.figure.Figure at 0x10ad703d0>"
      ]
     },
     "metadata": {},
     "output_type": "display_data"
    }
   ],
   "source": [
    "parameters = L_layer_model(train_x, train_y, layers_dims, num_iterations = 2500, print_cost = True)"
   ]
  },
  {
   "cell_type": "markdown",
   "metadata": {},
   "source": [
    "## Performance"
   ]
  },
  {
   "cell_type": "markdown",
   "metadata": {},
   "source": [
    "Here we look at the performance of the neural network on the training set and the test set."
   ]
  },
  {
   "cell_type": "code",
   "execution_count": 11,
   "metadata": {
    "collapsed": false
   },
   "outputs": [
    {
     "name": "stdout",
     "output_type": "stream",
     "text": [
      "Accuracy: 100.0\n"
     ]
    }
   ],
   "source": [
    "pred_train = predict(train_x, train_y, parameters)"
   ]
  },
  {
   "cell_type": "code",
   "execution_count": 12,
   "metadata": {
    "collapsed": false
   },
   "outputs": [
    {
     "name": "stdout",
     "output_type": "stream",
     "text": [
      "Accuracy: 74.0\n"
     ]
    }
   ],
   "source": [
    "pred_test = predict(test_x, test_y, parameters)"
   ]
  },
  {
   "cell_type": "code",
   "execution_count": null,
   "metadata": {
    "collapsed": true
   },
   "outputs": [],
   "source": []
  }
 ],
 "metadata": {
  "kernelspec": {
   "display_name": "Python 3",
   "language": "python",
   "name": "python3"
  },
  "language_info": {
   "codemirror_mode": {
    "name": "ipython",
    "version": 2
   },
   "file_extension": ".py",
   "mimetype": "text/x-python",
   "name": "python",
   "nbconvert_exporter": "python",
   "pygments_lexer": "ipython2",
   "version": "2.7.6"
  }
 },
 "nbformat": 4,
 "nbformat_minor": 2
}
